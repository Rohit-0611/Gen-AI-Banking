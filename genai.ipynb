{
 "cells": [
  {
   "cell_type": "code",
   "execution_count": 4,
   "metadata": {},
   "outputs": [],
   "source": [
    "from langchain.llms import GooglePalm\n",
    "api_key='YOUR_API_KEY'\n",
    "llm=GooglePalm(google_api_key=api_key,temperature=0.7)"
   ]
  },
  {
   "cell_type": "code",
   "execution_count": 5,
   "metadata": {},
   "outputs": [],
   "source": [
    "from langchain.document_loaders.csv_loader import CSVLoader\n",
    "loader=CSVLoader(file_path='promts.csv',source_column='Question')\n",
    "data=loader.load()\n"
   ]
  },
  {
   "cell_type": "markdown",
   "metadata": {},
   "source": [
    "#pip install InstructorEmbedding\n",
    "\n",
    "\n",
    "#pytorch required\n",
    "\n",
    "\n",
    "#sentence-transformer"
   ]
  },
  {
   "cell_type": "markdown",
   "metadata": {},
   "source": [
    "pip install sentence-transformers"
   ]
  },
  {
   "cell_type": "code",
   "execution_count": 9,
   "metadata": {},
   "outputs": [
    {
     "name": "stdout",
     "output_type": "stream",
     "text": [
      "load INSTRUCTOR_Transformer\n",
      "max_seq_length  512\n"
     ]
    }
   ],
   "source": [
    "from langchain.embeddings import HuggingFaceInstructEmbeddings\n",
    "from langchain.vectorstores import FAISS\n",
    "embeddings_instruct = HuggingFaceInstructEmbeddings()\n",
    "\n",
    "vectordb=FAISS.from_documents(documents=data,embedding=embeddings_instruct)"
   ]
  },
  {
   "cell_type": "markdown",
   "metadata": {},
   "source": [
    "To save it locally\n",
    "vectordb.save_local()"
   ]
  },
  {
   "cell_type": "code",
   "execution_count": 14,
   "metadata": {},
   "outputs": [],
   "source": [
    "retriever=vectordb.as_retriever()\n",
    "\n",
    "\n",
    "rdocs=retriever.get_relevant_documents('What is the loan eligiblity?')"
   ]
  },
  {
   "cell_type": "markdown",
   "metadata": {},
   "source": [
    "rdocs"
   ]
  },
  {
   "cell_type": "code",
   "execution_count": 13,
   "metadata": {},
   "outputs": [],
   "source": [
    "from langchain.chains import RetrievalQA"
   ]
  },
  {
   "cell_type": "code",
   "execution_count": 19,
   "metadata": {},
   "outputs": [],
   "source": [
    "from langchain.prompts import PromptTemplate\n",
    "\n",
    "template=\"\"\"Given the following context and a question, generate an answer based on this context only.\n",
    "In the answer try to provide as much text as possible from \"response\" section in the source document context without making much changes.\n",
    "If the answer is not found in the context, kindly state \"I don't know.\" Don't try to make up an answer.\n",
    "\n",
    "CONTEXT: {context}\n",
    "\n",
    "QUESTION: {question}\"\"\"\n",
    "\n",
    "\n",
    "\n",
    "PROMPT = PromptTemplate(\n",
    "    template=template, input_variables=[\"context\", \"question\"]\n",
    ")\n",
    "chain_type_kwargs = {\"prompt\": PROMPT}"
   ]
  },
  {
   "cell_type": "code",
   "execution_count": 20,
   "metadata": {},
   "outputs": [],
   "source": [
    "chain= RetrievalQA.from_chain_type(llm=llm,\n",
    "            chain_type='stuff',\n",
    "            retriever=retriever,\n",
    "            input_key='query',\n",
    "            return_source_documents=True)"
   ]
  },
  {
   "cell_type": "code",
   "execution_count": 22,
   "metadata": {},
   "outputs": [
    {
     "data": {
      "text/plain": [
       "{'query': 'Do you know john cena',\n",
       " 'result': \"I don't know.\",\n",
       " 'source_documents': [Document(page_content='Question: Are there any special programs for students or senior citizens?\\nResponse: Yes, we have special account types and services tailored to students and seniors.', metadata={'source': 'Are there any special programs for students or senior citizens?', 'row': 36}),\n",
       "  Document(page_content='Question: Can I open a joint account with someone else?\\nResponse: Joint accounts are available, and both parties must visit a branch to open the account.', metadata={'source': 'Can I open a joint account with someone else?', 'row': 6}),\n",
       "  Document(page_content='Question: Are there any discounts or rewards for credit card holders?\\nResponse: We offer various credit card options with rewards and benefits.', metadata={'source': 'Are there any discounts or rewards for credit card holders?', 'row': 29}),\n",
       "  Document(page_content='Question: Do you offer financial education resources for customers?\\nResponse: Yes, we have online resources and financial workshops to help you improve your financial literacy.', metadata={'source': 'Do you offer financial education resources for customers?', 'row': 16})]}"
      ]
     },
     "execution_count": 22,
     "metadata": {},
     "output_type": "execute_result"
    }
   ],
   "source": [
    "chain(\"Do you know john cena\")"
   ]
  },
  {
   "cell_type": "code",
   "execution_count": null,
   "metadata": {},
   "outputs": [],
   "source": []
  }
 ],
 "metadata": {
  "kernelspec": {
   "display_name": "gen-ai",
   "language": "python",
   "name": "python3"
  },
  "language_info": {
   "codemirror_mode": {
    "name": "ipython",
    "version": 3
   },
   "file_extension": ".py",
   "mimetype": "text/x-python",
   "name": "python",
   "nbconvert_exporter": "python",
   "pygments_lexer": "ipython3",
   "version": "3.11.5"
  }
 },
 "nbformat": 4,
 "nbformat_minor": 2
}
